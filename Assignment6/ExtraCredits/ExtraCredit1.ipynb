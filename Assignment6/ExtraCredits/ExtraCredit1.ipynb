{
 "cells": [
  {
   "cell_type": "markdown",
   "id": "253f1231",
   "metadata": {},
   "source": [
    "# ExtraCredit1 - Pedestrian simulation\n",
    "\n",
    "### SungJun(Tony), Baek. CSE5280\n",
    "\n",
    "Due: Tuesday, April 5th"
   ]
  },
  {
   "cell_type": "markdown",
   "id": "bb4127c8",
   "metadata": {},
   "source": [
    "```\n",
    "Create the two 3-D floor plans for the scenarios of Part 1 and Part 2 of the assignment. Also, add spheres representing the persons. No animation is required at this point. To complete this task, you need to design the scenario and build the 3-D scene using 3-D primitives such as planes (or boxes), cylinders, and spheres. You can use VPython or simply modify or extend the Open3D example that was sent to you via email. \n",
    "```\n",
    "\n",
    "Part1 Scenario: A crowd or group of people moving through an exit with anobstacle placed in front\n",
    "\n",
    "Part2 Scenario: Merging crowds during an evacuation "
   ]
  },
  {
   "cell_type": "markdown",
   "id": "b6536120",
   "metadata": {},
   "source": [
    "##  Add 3-D floor plane with wall and exit for part 1\n",
    "Create 100 by 100 map plane with exit location at 150, 50"
   ]
  },
  {
   "cell_type": "code",
   "execution_count": 1,
   "id": "d29093c9",
   "metadata": {},
   "outputs": [
    {
     "data": {
      "text/html": [
       "<div id=\"glowscript\" class=\"glowscript\"></div>"
      ],
      "text/plain": [
       "<IPython.core.display.HTML object>"
      ]
     },
     "metadata": {},
     "output_type": "display_data"
    },
    {
     "data": {
      "application/javascript": [
       "if (typeof Jupyter !== \"undefined\") { window.__context = { glowscript_container: $(\"#glowscript\").removeAttr(\"id\")};}else{ element.textContent = ' ';}"
      ],
      "text/plain": [
       "<IPython.core.display.Javascript object>"
      ]
     },
     "metadata": {},
     "output_type": "display_data"
    },
    {
     "data": {
      "text/html": [
       "<div id=\"glowscript\" class=\"glowscript\"></div>"
      ],
      "text/plain": [
       "<IPython.core.display.HTML object>"
      ]
     },
     "metadata": {},
     "output_type": "display_data"
    },
    {
     "data": {
      "application/javascript": [
       "if (typeof Jupyter !== \"undefined\") { window.__context = { glowscript_container: $(\"#glowscript\").removeAttr(\"id\")};}else{ element.textContent = ' ';}"
      ],
      "text/plain": [
       "<IPython.core.display.Javascript object>"
      ]
     },
     "metadata": {},
     "output_type": "display_data"
    },
    {
     "data": {
      "application/javascript": [
       "if (typeof Jupyter !== \"undefined\") {require.undef(\"nbextensions/vpython_libraries/glow.min\");}else{element.textContent = ' ';}"
      ],
      "text/plain": [
       "<IPython.core.display.Javascript object>"
      ]
     },
     "metadata": {},
     "output_type": "display_data"
    },
    {
     "data": {
      "application/javascript": [
       "if (typeof Jupyter !== \"undefined\") {require.undef(\"nbextensions/vpython_libraries/glowcomm\");}else{element.textContent = ' ';}"
      ],
      "text/plain": [
       "<IPython.core.display.Javascript object>"
      ]
     },
     "metadata": {},
     "output_type": "display_data"
    },
    {
     "data": {
      "application/javascript": [
       "if (typeof Jupyter !== \"undefined\") {require.undef(\"nbextensions/vpython_libraries/jquery-ui.custom.min\");}else{element.textContent = ' ';}"
      ],
      "text/plain": [
       "<IPython.core.display.Javascript object>"
      ]
     },
     "metadata": {},
     "output_type": "display_data"
    },
    {
     "data": {
      "application/javascript": [
       "if (typeof Jupyter !== \"undefined\") {require([\"nbextensions/vpython_libraries/glow.min\"], function(){console.log(\"GLOW LOADED\");});}else{element.textContent = ' ';}"
      ],
      "text/plain": [
       "<IPython.core.display.Javascript object>"
      ]
     },
     "metadata": {},
     "output_type": "display_data"
    },
    {
     "data": {
      "application/javascript": [
       "if (typeof Jupyter !== \"undefined\") {require([\"nbextensions/vpython_libraries/glowcomm\"], function(){console.log(\"GLOWCOMM LOADED\");});}else{element.textContent = ' ';}"
      ],
      "text/plain": [
       "<IPython.core.display.Javascript object>"
      ]
     },
     "metadata": {},
     "output_type": "display_data"
    },
    {
     "data": {
      "application/javascript": [
       "if (typeof Jupyter !== \"undefined\") {require([\"nbextensions/vpython_libraries/jquery-ui.custom.min\"], function(){console.log(\"JQUERY LOADED\");});}else{element.textContent = ' ';}"
      ],
      "text/plain": [
       "<IPython.core.display.Javascript object>"
      ]
     },
     "metadata": {},
     "output_type": "display_data"
    }
   ],
   "source": [
    "import numpy as np\n",
    "from vpython import *\n",
    "\n",
    "canvas = canvas(title='Part 1 Scenario',\n",
    "         length=500, width=500, height=500,\n",
    "         center=vector(50,0,50), background=color.white)\n",
    "\n",
    "#(x,y,z) -> (x,z,y)\n",
    "floor = box(pos=vector(50,0,50),\n",
    "       length=100, width=100, height=2)\n",
    "floor.color = vec(0.689, 0.933, 1.000)\n",
    "\n",
    "wall1 = box(pos=vector(0, 5,50),\n",
    "       length=-1, width=100, height=10)\n",
    "\n",
    "wall2 = box(pos=vector(50,5,0),\n",
    "       length=100, width=-1, height=10)\n",
    "\n",
    "wall3 = box(pos=vector(100,5,50),\n",
    "       length=-1, width=100, height=10)\n",
    "\n",
    "wall1 = box(pos=vector(50, 5,100),\n",
    "       length=100, width=-1, height=10)\n",
    "\n",
    "#Exit location at x = 100, y = 0, z= 50 -> (100, 50)\n",
    "exit_floor = box(pos=vector(97,1.1,50),\n",
    "       length=6, width=10, height=2,\n",
    "       color=vec(0.455, 0.819, 0.466))"
   ]
  },
  {
   "cell_type": "markdown",
   "id": "ecd11754",
   "metadata": {},
   "source": [
    "### Add spheres(persons) to the plane for part 1\n",
    "\n",
    "Create 3 persons on different points<br>\n",
    "\n",
    "1. (5, 1 ,5) -> (x = 5, y = 5)<br>\n",
    "2. (45, 1 ,5) -> (x = 45, y = 5)<br>\n",
    "3. (5, 1 ,45) -> (x = 5, y = 45)<br>"
   ]
  },
  {
   "cell_type": "code",
   "execution_count": 2,
   "id": "8c9efdf3",
   "metadata": {},
   "outputs": [],
   "source": [
    "#Return the coordinates for plotting a sphere centered at (x,y,z) -> (x,z,y)\n",
    "person = []\n",
    "person.append(sphere(pos=vector(5,1,5), radius=1, color=color.red))\n",
    "person.append(sphere(pos=vector(45,1,5), radius=1, color=color.red))\n",
    "person.append(sphere(pos=vector(5,1,45), radius=1, color=color.red))   "
   ]
  },
  {
   "cell_type": "markdown",
   "id": "36095b7f",
   "metadata": {},
   "source": [
    "##### Add Cylinders for obstacles\n",
    "\n",
    "Create 5 obstacles near the exit location on differect points"
   ]
  },
  {
   "cell_type": "code",
   "execution_count": 3,
   "id": "bf50ec01",
   "metadata": {},
   "outputs": [],
   "source": [
    "cylinder_list = []\n",
    "cylinder_list.append(cylinder(pos=vector(90,0,50), axis=vector(0,5,0), radius=3, color=color.blue))\n",
    "cylinder_list.append(cylinder(pos=vector(80,0,40), axis=vector(0,5,0), radius=3, color=color.blue))\n",
    "cylinder_list.append(cylinder(pos=vector(70,0,30), axis=vector(0,5,0), radius=3, color=color.blue))\n",
    "cylinder_list.append(cylinder(pos=vector(60,0,20), axis=vector(0,5,0), radius=3, color=color.blue))\n",
    "cylinder_list.append(cylinder(pos=vector(50,0,10), axis=vector(0,5,0), radius=3, color=color.blue))"
   ]
  },
  {
   "cell_type": "markdown",
   "id": "08f176ef",
   "metadata": {},
   "source": [
    "## Add 3-D floor plane with T-shaped wall and exit for part 2"
   ]
  },
  {
   "cell_type": "code",
   "execution_count": 9,
   "id": "21c370a4",
   "metadata": {},
   "outputs": [
    {
     "data": {
      "text/html": [
       "<div id=\"glowscript\" class=\"glowscript\"></div>"
      ],
      "text/plain": [
       "<IPython.core.display.HTML object>"
      ]
     },
     "metadata": {},
     "output_type": "display_data"
    },
    {
     "data": {
      "application/javascript": [
       "if (typeof Jupyter !== \"undefined\") { window.__context = { glowscript_container: $(\"#glowscript\").removeAttr(\"id\")};}else{ element.textContent = ' ';}"
      ],
      "text/plain": [
       "<IPython.core.display.Javascript object>"
      ]
     },
     "metadata": {},
     "output_type": "display_data"
    }
   ],
   "source": [
    "import numpy as np\n",
    "from vpython import *\n",
    "\n",
    "canvas(title='Part 2 Scenario',\n",
    "     length=500, width=500, height=500,\n",
    "     center=vector(50,0,50), background=color.white)\n",
    "\n",
    "#(x,y,z) -> (x,z,y)\n",
    "floor = box(pos=vector(50,0,50),\n",
    "       length=100, width=100, height=2,\n",
    "       color=vec(0.689, 0.933, 1.000))\n",
    "\n",
    "wall1 = box(pos=vector(50, 5,50),\n",
    "       length=-1, width=100, height=10)\n",
    "\n",
    "wall2 = box(pos=vector(70, 5,20),\n",
    "       length=-1, width=40, height=10)\n",
    "\n",
    "wall3 = box(pos=vector(70, 5,80),\n",
    "       length=-1, width=40, height=10)\n",
    "\n",
    "wall4 = box(pos=vector(60, 5,100),\n",
    "       length=20, width=-1, height=10)\n",
    "\n",
    "wall5 = box(pos=vector(60, 5,0),\n",
    "       length=20, width=-1, height=10)\n",
    "\n",
    "wall6 = box(pos=vector(85, 5,60),\n",
    "       length=30, width=-1, height=10)\n",
    "\n",
    "wall7 = box(pos=vector(85, 5,40),\n",
    "       length=30, width=-1, height=10)\n",
    "\n",
    "\n",
    "#Exit location at x = 100, y = 0, z= 50 -> (100, 50)\n",
    "exit_floor = box(pos=vector(97,1.1,50),\n",
    "       length=6, width=10, height=2,\n",
    "       color=vec(0.455, 0.819, 0.466))"
   ]
  },
  {
   "cell_type": "markdown",
   "id": "8d52e9b1",
   "metadata": {},
   "source": [
    "### Add spheres(persons) to the plane for part 2\n",
    "\n",
    "Create 10 persons on different points in the corridors."
   ]
  },
  {
   "cell_type": "code",
   "execution_count": 10,
   "id": "d1c4df8a",
   "metadata": {},
   "outputs": [],
   "source": [
    "persons = [vector(60,1,95), vector(52,1,95), vector(54,1,95), vector(58,1,95), vector(64,1,95),\n",
    "          vector(60,1,5), vector(52,1,5), vector(54,1,5), vector(58,1,5), vector(64,1,5)]\n",
    "for person in persons:\n",
    "    sphere(pos=person, radius=1, color=color.red)"
   ]
  },
  {
   "cell_type": "code",
   "execution_count": null,
   "id": "ec7d6238",
   "metadata": {},
   "outputs": [],
   "source": []
  },
  {
   "cell_type": "code",
   "execution_count": null,
   "id": "feafa59d",
   "metadata": {},
   "outputs": [],
   "source": []
  }
 ],
 "metadata": {
  "kernelspec": {
   "display_name": "Python 3 (ipykernel)",
   "language": "python",
   "name": "python3"
  },
  "language_info": {
   "codemirror_mode": {
    "name": "ipython",
    "version": 3
   },
   "file_extension": ".py",
   "mimetype": "text/x-python",
   "name": "python",
   "nbconvert_exporter": "python",
   "pygments_lexer": "ipython3",
   "version": "3.9.12"
  }
 },
 "nbformat": 4,
 "nbformat_minor": 5
}
