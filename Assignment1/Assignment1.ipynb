{
 "cells": [
  {
   "cell_type": "code",
   "execution_count": 7,
   "id": "eddd7b95",
   "metadata": {},
   "outputs": [
    {
     "data": {
      "image/png": "[encoded data removed]",
      "text/plain": [
       "<Figure size 432x288 with 1 Axes>"
      ]
     },
     "metadata": {
      "needs_background": "light"
     },
     "output_type": "display_data"
    },
    {
     "data": {
      "image/png": "[encoded data removed]",
      "text/plain": [
       "<Figure size 432x288 with 1 Axes>"
      ]
     },
     "metadata": {
      "needs_background": "light"
     },
     "output_type": "display_data"
    },
    {
     "data": {
      "image/png": "[encoded data removed]",
      "text/plain": [
       "<Figure size 432x288 with 1 Axes>"
      ]
     },
     "metadata": {
      "needs_background": "light"
     },
     "output_type": "display_data"
    },
    {
     "data": {
      "image/png": "[encoded data removed]",
      "text/plain": [
       "<Figure size 432x288 with 1 Axes>"
      ]
     },
     "metadata": {
      "needs_background": "light"
     },
     "output_type": "display_data"
    },
    {
     "data": {
      "image/png": "[encoded data removed]",
      "text/plain": [
       "<Figure size 432x288 with 1 Axes>"
      ]
     },
     "metadata": {
      "needs_background": "light"
     },
     "output_type": "display_data"
    }
   ],
   "source": [
    "import numpy as np\n",
    "import math\n",
    "import matplotlib.pyplot as plt\n",
    "import copy\n",
    "\n",
    "pts = [\n",
    "[0.4540,0.7126],\n",
    "[0.4828,0.7299],\n",
    "[0.4828,0.4368],\n",
    "[0.5115,0.4368],\n",
    "[0.5172,0.4253],\n",
    "[0.5287,0.7471],\n",
    "[0.5460,0.7644],\n",
    "[0.5517,0.4195],\n",
    "[0.5862,0.7931],\n",
    "[0.5862,0.4138],\n",
    "[0.5977,0.3908],\n",
    "[0.6092,0.6839],\n",
    "[0.6149,0.6552],\n",
    "[0.6149,0.3793],\n",
    "[0.6322,0.8161],\n",
    "[0.6207,0.7241],\n",
    "[0.6322,0.5747],\n",
    "[0.6322,0.5517],\n",
    "[0.6322,0.5230],\n",
    "[0.6322,0.3563],\n",
    "[0.6437,0.8391],\n",
    "[0.6552,0.7586],\n",
    "[0.6552,0.6609],\n",
    "[0.6494,0.5862],\n",
    "[0.6437,0.5057],\n",
    "[0.6494,0.4828],\n",
    "[0.6552,0.3448],\n",
    "[0.6667,0.8506],\n",
    "[0.6667,0.4540],\n",
    "[0.6667,0.4253],\n",
    "[0.6667,0.3218],\n",
    "[0.6782,0.8736],\n",
    "[0.6897,0.7931],\n",
    "[0.6897,0.6897],\n",
    "[0.6782,0.5747],\n",
    "[0.6782,0.4138],\n",
    "[0.6782,0.3793],\n",
    "[0.6897,0.3448],\n",
    "[0.6897,0.3103],\n",
    "[0.6954,0.8908],\n",
    "[0.7011,0.5517],\n",
    "[0.7011,0.8161],\n",
    "[0.7011,0.7126],\n",
    "[0.7356,0.8966],\n",
    "[0.7241,0.8621],\n",
    "[0.7126,0.8391],\n",
    "[0.7241,0.7241],\n",
    "[0.7126,0.5402],\n",
    "[0.7241,0.5230],\n",
    "[0.7126,0.2989],\n",
    "[0.7184,0.2874],\n",
    "[0.7299,0.9310],\n",
    "[0.7586,0.9655],\n",
    "[0.7471,0.9368],\n",
    "[0.7471,0.9080],\n",
    "[0.7586,0.7529],\n",
    "[0.7529,0.4828],\n",
    "[0.7701,0.9885],\n",
    "[0.7816,1.0000],\n",
    "[0.7874,0.7701],\n",
    "[0.7874,0.5862],\n",
    "[0.7816,0.5517],\n",
    "[0.7816,0.5172],\n",
    "[0.7931,0.4828],\n",
    "[0.7931,0.4540],\n",
    "[0.7931,0.6897],\n",
    "[0.7931,0.6552],\n",
    "[0.7931,0.6207],\n",
    "[0.8046,0.7126],\n",
    "[0.8161,0.7299],\n",
    "[0.8161,0.4713],\n",
    "[0.8218,0.4425],\n",
    "[0.8276,0.4195],\n",
    "[0.8333,0.7816],\n",
    "[0.8391,0.7471],\n",
    "[0.8621,0.7874],\n",
    "[0.8506,0.7701],\n",
    "[0.8851,0.7931]]\n",
    "\n",
    "#Scalling\n",
    "def scalar (s_x, s_y, matrix_2d):\n",
    "    scallar_matrix = [[s_x, 0],[0, s_y]]\n",
    "    return np.matmul(scallar_matrix, matrix_2d)\n",
    "\n",
    "#Rotation\n",
    "def rotate (theta, matrix_2d):\n",
    "    rotate_matrix = [[math.cos(theta), -math.sin(theta)],[math.sin(theta), math.cos(theta)]]\n",
    "    return np.matmul(rotate_matrix, matrix_2d)\n",
    "\n",
    "#Shear\n",
    "def shear (alpha, matrix_2d):\n",
    "    shear_matrix = [[1, alpha],[0, 1]]\n",
    "    return np.matmul(shear_matrix, matrix_2d)\n",
    "\n",
    "s_x = 2\n",
    "s_y = 2\n",
    "theta = math.pi/2\n",
    "shear_value = 5\n",
    "\n",
    "scalar_result = []\n",
    "rotate_result = []\n",
    "shear_result = []\n",
    "\n",
    "for i in range (len(pts)):\n",
    "    x = copy.copy(pts[i][0])\n",
    "    y = copy.copy(pts[i][1])\n",
    "    scalar_result.append(scalar(s_x, s_y, [x, y]))\n",
    "    x = copy.copy(pts[i][0])\n",
    "    y = copy.copy(pts[i][1])\n",
    "    rotate_result.append(rotate(theta, [x, y]))\n",
    "    x = copy.copy(pts[i][0])\n",
    "    y = copy.copy(pts[i][1])\n",
    "    shear_result.append(shear(shear_value, [x, y]))\n",
    "\n",
    "for point in pts:\n",
    "    plt.plot(pts[0], pts[1], 'go--', linewidth=2, markersize=2)\n",
    "plt.show()\n",
    "\n",
    "for point in scalar_result:\n",
    "    plt.plot(point[0], point[1], 'go--', linewidth=2, markersize=2)\n",
    "plt.show()\n",
    "\n",
    "\n",
    "for point in rotate_result:\n",
    "    plt.plot(point[0], point[1], 'go--', linewidth=2, markersize=2)\n",
    "plt.show()\n",
    "\n",
    "for point in shear_result:\n",
    "    plt.plot(point[0], point[1], 'go--', linewidth=2, markersize=2)\n",
    "plt.show()\n",
    "\n",
    "def combineTogether():\n",
    "    scalar_result = []\n",
    "    rotate_result = []\n",
    "    final_result = []\n",
    "    for i in range (len(pts)):\n",
    "        x = pts[i][0]\n",
    "        y = pts[i][1]\n",
    "        scalar_result.append(scalar(s_x, s_y, [x, y]))\n",
    "    for i in range (len(scalar_result)):\n",
    "        x = scalar_result[i][0]\n",
    "        y = scalar_result[i][1]\n",
    "        rotate_result.append(rotate(theta, [x, y]))\n",
    "    for i in range (len(rotate_result)):\n",
    "        x = rotate_result[i][0]\n",
    "        y = rotate_result[i][1]\n",
    "        final_result.append(shear(shear_value, [x, y]))\n",
    "    return final_result\n",
    "\n",
    "final_result = combineTogether()\n",
    "for point in final_result:\n",
    "    plt.plot(point[0], point[1], 'go--', linewidth=2, markersize=2)\n",
    "plt.show()"
   ]
  },
  {
   "cell_type": "code",
   "execution_count": null,
   "id": "2d7222cb",
   "metadata": {},
   "outputs": [],
   "source": []
  }
 ],
 "metadata": {
  "kernelspec": {
   "display_name": "Python 3 (ipykernel)",
   "language": "python",
   "name": "python3"
  },
  "language_info": {
   "codemirror_mode": {
    "name": "ipython",
    "version": 3
   },
   "file_extension": ".py",
   "mimetype": "text/x-python",
   "name": "python",
   "nbconvert_exporter": "python",
   "pygments_lexer": "ipython3",
   "version": "3.9.10"
  }
 },
 "nbformat": 4,
 "nbformat_minor": 5
}
